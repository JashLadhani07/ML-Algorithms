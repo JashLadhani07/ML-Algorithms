{
 "cells": [
  {
   "cell_type": "code",
   "execution_count": 42,
   "id": "80cf98b1-3281-495f-bfa8-71a673bd7f5a",
   "metadata": {},
   "outputs": [],
   "source": [
    "import numpy as np\n",
    "import pandas as pd"
   ]
  },
  {
   "cell_type": "code",
   "execution_count": 44,
   "id": "c04f6660-250f-4a2c-ac4d-1affc8ead1ad",
   "metadata": {},
   "outputs": [],
   "source": [
    "df = pd.read_csv('placement.csv')"
   ]
  },
  {
   "cell_type": "code",
   "execution_count": 166,
   "id": "38a82ba4-5110-4b95-83b0-a7f90c0f4c87",
   "metadata": {},
   "outputs": [],
   "source": [
    "#Create class for our model\n",
    "class mylr:\n",
    "    def __init__(self):\n",
    "        self.m = None\n",
    "        self.b = None\n",
    "        pass\n",
    "    def fit(self,x_train,y_train):\n",
    "        num = 0\n",
    "        den = 0\n",
    "\n",
    "        for i in range(x_train.shape[0]):\n",
    "            num = num + ((x_train[i] - x_train.mean()) * (y_train[i] - y_train.mean()))\n",
    "            den = den + ((x_train[i] - x_train.mean()) * (x_train[i] - x_train.mean()))\n",
    "        self.m = num/den\n",
    "        self.b = y_train.mean() - (self.m * x_train.mean())\n",
    "        print(self.m)\n",
    "        print(self.b)\n",
    "    def predict(self,x_test):\n",
    "        return x_test*self.m + self.b #y = mx+b"
   ]
  },
  {
   "cell_type": "code",
   "execution_count": 168,
   "id": "b6136c59-5467-45bf-b7ae-1959eb7cc39c",
   "metadata": {},
   "outputs": [],
   "source": [
    "x = df.iloc[:,0].values\n",
    "y = df.iloc[:,1].values"
   ]
  },
  {
   "cell_type": "code",
   "execution_count": 170,
   "id": "1eb0adf4-ef73-46f1-a622-7139f7079edf",
   "metadata": {},
   "outputs": [],
   "source": [
    "#using sklearn, split test and train data\n",
    "from sklearn.model_selection import train_test_split\n",
    "x_train,x_test,y_train,y_test = train_test_split(x,y,test_size=0.2,random_state=2)"
   ]
  },
  {
   "cell_type": "code",
   "execution_count": 172,
   "id": "8185de96-82ca-4284-a813-a2b98bc0bbb0",
   "metadata": {},
   "outputs": [],
   "source": [
    "#create an object with mylr class\n",
    "lr = mylr()"
   ]
  },
  {
   "cell_type": "code",
   "execution_count": 174,
   "id": "7ee0cfaf-34e1-4db9-9d56-4f87c6577969",
   "metadata": {},
   "outputs": [
    {
     "name": "stdout",
     "output_type": "stream",
     "text": [
      "0.5579519734250721\n",
      "-0.8961119222429152\n"
     ]
    }
   ],
   "source": [
    "lr.fit(x_train,y_train) #model can train now\n",
    "#m and b values are same as sklearn model"
   ]
  },
  {
   "cell_type": "code",
   "execution_count": 176,
   "id": "7026d318-d161-46d3-82be-7b3affc89400",
   "metadata": {},
   "outputs": [],
   "source": [
    "#then we calculate m and b values in the fit function in the class above itself"
   ]
  },
  {
   "cell_type": "code",
   "execution_count": 178,
   "id": "c32eac2b-5e5c-4560-ad44-10358af730ec",
   "metadata": {},
   "outputs": [
    {
     "data": {
      "text/plain": [
       "(160,)"
      ]
     },
     "execution_count": 178,
     "metadata": {},
     "output_type": "execute_result"
    }
   ],
   "source": [
    "x_train.shape"
   ]
  },
  {
   "cell_type": "code",
   "execution_count": 180,
   "id": "2a6d5b23-d10f-4275-9a6a-d8cced776921",
   "metadata": {},
   "outputs": [
    {
     "data": {
      "text/plain": [
       "(160,)"
      ]
     },
     "execution_count": 180,
     "metadata": {},
     "output_type": "execute_result"
    }
   ],
   "source": [
    "y_train.shape"
   ]
  },
  {
   "cell_type": "code",
   "execution_count": 182,
   "id": "0a3c8d37-1d84-42b9-bd9b-2ed8659fe1b7",
   "metadata": {},
   "outputs": [],
   "source": [
    "#now to predict\n",
    "#written directly in predict function in class"
   ]
  },
  {
   "cell_type": "code",
   "execution_count": 184,
   "id": "87988424-dcee-44a7-9793-d0b7752d084e",
   "metadata": {},
   "outputs": [
    {
     "data": {
      "text/plain": [
       "array([3.89111601, 3.09324469, 2.38464568, 2.57434935, 1.6537286 ,\n",
       "       1.77647803, 2.07219258, 2.93143862, 3.76278706, 2.93701814,\n",
       "       4.09197872, 3.51170867, 2.97049525, 2.40138424, 3.18809652,\n",
       "       3.46707251, 1.94386362, 3.24389172, 2.97607477, 3.41685683,\n",
       "       2.55761079, 3.16577844, 2.85890486, 3.12114229, 3.68467378,\n",
       "       2.8700639 , 3.49497011, 3.34432308, 3.91901361, 1.96060218,\n",
       "       3.65119666, 3.2104146 , 3.74046898, 2.7863711 , 2.78079158,\n",
       "       3.27178932, 3.52844723, 2.61340599, 2.65804215, 2.71383735])"
      ]
     },
     "execution_count": 184,
     "metadata": {},
     "output_type": "execute_result"
    }
   ],
   "source": [
    "lr.predict(x_test)"
   ]
  },
  {
   "cell_type": "code",
   "execution_count": 186,
   "id": "b3e2a98b-1258-4da3-93e9-41da59075dae",
   "metadata": {},
   "outputs": [
    {
     "data": {
      "text/plain": [
       "3.891116009744203"
      ]
     },
     "execution_count": 186,
     "metadata": {},
     "output_type": "execute_result"
    }
   ],
   "source": [
    "lr.predict(x_test[0])"
   ]
  },
  {
   "cell_type": "code",
   "execution_count": null,
   "id": "a0354461-5ef9-4437-8e18-cee715399975",
   "metadata": {},
   "outputs": [],
   "source": []
  }
 ],
 "metadata": {
  "kernelspec": {
   "display_name": "Python [conda env:base] *",
   "language": "python",
   "name": "conda-base-py"
  },
  "language_info": {
   "codemirror_mode": {
    "name": "ipython",
    "version": 3
   },
   "file_extension": ".py",
   "mimetype": "text/x-python",
   "name": "python",
   "nbconvert_exporter": "python",
   "pygments_lexer": "ipython3",
   "version": "3.12.7"
  }
 },
 "nbformat": 4,
 "nbformat_minor": 5
}
